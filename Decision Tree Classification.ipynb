{
 "cells": [
  {
   "cell_type": "markdown",
   "id": "3cc8f742",
   "metadata": {},
   "source": [
    "# Lab#Task1"
   ]
  },
  {
   "cell_type": "code",
   "execution_count": 28,
   "id": "edc7ddf1",
   "metadata": {},
   "outputs": [
    {
     "name": "stdout",
     "output_type": "stream",
     "text": [
      "Accuracy with entropy: 74.56647398843931%\n",
      "Accuracy with gini: 74.56647398843931%\n"
     ]
    }
   ],
   "source": [
    "import pandas as pd\n",
    "import numpy as np\n",
    "from sklearn.metrics import accuracy_score\n",
    "from sklearn import preprocessing\n",
    "from sklearn.model_selection import train_test_split\n",
    "from sklearn.tree import DecisionTreeClassifier\n",
    "\n",
    "\n",
    "df=pd.read_csv(\"car.csv\")\n",
    "col_names=[\"buying\",\"maint\",\"doors\",\"persons\",\"lugg_boot\",\"saftey\",\"class\"]\n",
    "df.columns=col_names\n",
    "\n",
    "\n",
    "#converting in integers\n",
    "le=preprocessing.LabelEncoder()\n",
    "for col in df.columns:\n",
    "    df[col]=le.fit_transform(df[col])\n",
    "X=df.drop(\"class\",axis=1)\n",
    "y=df[\"class\"]\n",
    "\n",
    "X_train,X_test,y_train,y_test=train_test_split(X,y,test_size=0.20)\n",
    "my_model_entropy=DecisionTreeClassifier(criterion=\"entropy\",max_depth=3,random_state=0)\n",
    "my_model_entropy.fit(X_train,y_train)\n",
    "y_pred_entropy=my_model_entropy.predict(X_test)\n",
    "accuracy_entropy=accuracy_score(y_pred_entropy,y_test)\n",
    "print(\"Accuracy with entropy: {}%\".format(accuracy_entropy*100))\n",
    "\n",
    "\n",
    "my_model_gini=DecisionTreeClassifier(criterion=\"gini\",max_depth=3,random_state=0)\n",
    "my_model_gini.fit(X_train,y_train)\n",
    "y_pred_gini=my_model_gini.predict(X_test)\n",
    "accuracy_gini=accuracy_score(y_pred_gini,y_test)\n",
    "print(\"Accuracy with gini: {}%\".format(accuracy_gini*100))"
   ]
  },
  {
   "cell_type": "code",
   "execution_count": null,
   "id": "2261308f",
   "metadata": {},
   "outputs": [],
   "source": []
  },
  {
   "cell_type": "markdown",
   "id": "bd00026b",
   "metadata": {},
   "source": [
    "# Lab#Task"
   ]
  },
  {
   "cell_type": "code",
   "execution_count": 36,
   "id": "2744a60e",
   "metadata": {},
   "outputs": [
    {
     "name": "stdout",
     "output_type": "stream",
     "text": [
      "Number of unique values in each column:\n",
      "Class             3\n",
      "left_weight       5\n",
      "left_distance     5\n",
      "right_weight      5\n",
      "right_distance    5\n",
      "dtype: int64\n",
      "Mean, Median and Standard Deviation of numerical columns:\n",
      "       left_weight  left_distance  right_weight  right_distance\n",
      "count   624.000000     624.000000    624.000000      624.000000\n",
      "mean      3.003205       3.003205      3.003205        3.003205\n",
      "std       1.414210       1.414210      1.414210        1.414210\n",
      "min       1.000000       1.000000      1.000000        1.000000\n",
      "25%       2.000000       2.000000      2.000000        2.000000\n",
      "50%       3.000000       3.000000      3.000000        3.000000\n",
      "75%       4.000000       4.000000      4.000000        4.000000\n",
      "max       5.000000       5.000000      5.000000        5.000000\n",
      "Accuracy score for the entropy model: 68.61702127659575%\n",
      "Accuracy score for the gini model: 70.74468085106383%\n",
      "Precision score for the entropy model: 64.82042257242814%\n",
      "Precision score for the gini model: 70.28630897317298%\n",
      "Recall score for the entropy model: 68.61702127659575%\n",
      "Recall score for the gini model: 70.74468085106383%\n",
      "F1 score for the entropy model: 65.69499979940356%\n",
      "F1 score for the gini model: 67.19627889840658%\n",
      "Confusion matrix of decision tree with gini criterion:\n",
      "[[ 0 11  2]\n",
      " [ 0 89  4]\n",
      " [ 0 38 44]]\n",
      "Confusion matrix of decision tree with entropy criterion:\n",
      "[[ 0  9  4]\n",
      " [ 0 80 13]\n",
      " [ 0 33 49]]\n"
     ]
    },
    {
     "name": "stderr",
     "output_type": "stream",
     "text": [
      "C:\\Users\\omer0\\anaconda3\\lib\\site-packages\\sklearn\\metrics\\_classification.py:1318: UndefinedMetricWarning: Precision is ill-defined and being set to 0.0 in labels with no predicted samples. Use `zero_division` parameter to control this behavior.\n",
      "  _warn_prf(average, modifier, msg_start, len(result))\n",
      "C:\\Users\\omer0\\anaconda3\\lib\\site-packages\\sklearn\\metrics\\_classification.py:1318: UndefinedMetricWarning: Precision is ill-defined and being set to 0.0 in labels with no predicted samples. Use `zero_division` parameter to control this behavior.\n",
      "  _warn_prf(average, modifier, msg_start, len(result))\n"
     ]
    }
   ],
   "source": [
    "import pandas as pd\n",
    "import numpy as np\n",
    "from sklearn.metrics import accuracy_score, precision_score, recall_score, f1_score, confusion_matrix\n",
    "from sklearn import preprocessing\n",
    "from sklearn.model_selection import train_test_split\n",
    "from sklearn.tree import DecisionTreeClassifier\n",
    "\n",
    "\n",
    "df = pd.read_csv(\"balance-scale.csv\")\n",
    "col_names = [\"Class\", \"left_weight\", \"left_distance\", \"right_weight\", \"right_distance\"]\n",
    "df.columns = col_names\n",
    "\n",
    "\n",
    "print(\"Number of unique values in each column:\")\n",
    "print(df.nunique())\n",
    "print(\"Mean, Median and Standard Deviation of numerical columns:\")\n",
    "print(df.describe())\n",
    "\n",
    "#All Null values will be removed\n",
    "df.dropna(inplace=True)\n",
    "\n",
    "X = df.drop(\"Class\", axis=1)\n",
    "y = df[\"Class\"]\n",
    "\n",
    "le = preprocessing.LabelEncoder()\n",
    "for col in X.columns:\n",
    "    X[col] = le.fit_transform(X[col])\n",
    "\n",
    "\n",
    "X_train, X_test, y_train, y_test = train_test_split(X, y, test_size=0.30)\n",
    "\n",
    "my_model_entropy = DecisionTreeClassifier(criterion=\"entropy\", max_depth=3, random_state=0)\n",
    "my_model_entropy.fit(X_train, y_train)\n",
    "\n",
    "my_model_gini = DecisionTreeClassifier(criterion=\"gini\", max_depth=3, random_state=0)\n",
    "my_model_gini.fit(X_train, y_train)\n",
    "\n",
    "y_pred_entropy = my_model_entropy.predict(X_test)\n",
    "y_pred_gini = my_model_gini.predict(X_test)\n",
    "\n",
    "accuracy_entropy = accuracy_score(y_test, y_pred_entropy)\n",
    "accuracy_gini = accuracy_score(y_test, y_pred_gini)\n",
    "\n",
    "print(\"Accuracy score for the entropy model: {}%\".format(accuracy_entropy*100))\n",
    "print(\"Accuracy score for the gini model: {}%\".format(accuracy_gini*100))\n",
    "\n",
    "precision_entropy = precision_score(y_test, y_pred_entropy, average=\"weighted\")\n",
    "precision_gini = precision_score(y_test, y_pred_gini, average=\"weighted\")\n",
    "\n",
    "recall_entropy = recall_score(y_test, y_pred_entropy, average=\"weighted\")\n",
    "recall_gini = recall_score(y_test, y_pred_gini, average=\"weighted\")\n",
    "\n",
    "f1_entropy = f1_score(y_test, y_pred_entropy, average=\"weighted\")\n",
    "f1_gini = f1_score(y_test, y_pred_gini, average=\"weighted\")\n",
    "\n",
    "print(\"Precision score for the entropy model: {}%\".format(precision_entropy*100))\n",
    "print(\"Precision score for the gini model: {}%\".format(precision_gini*100))\n",
    "print(\"Recall score for the entropy model: {}%\".format(recall_entropy*100))\n",
    "print(\"Recall score for the gini model: {}%\".format(recall_gini*100))\n",
    "print(\"F1 score for the entropy model: {}%\".format(f1_entropy*100))\n",
    "print(\"F1 score for the gini model: {}%\".format(f1_gini*100))\n",
    "\n",
    "# Draw the confusion matrix\n",
    "print(\"Confusion matrix of decision tree with gini criterion:\")\n",
    "print(confusion_matrix(y_test, y_pred_gini))\n",
    "\n",
    "print(\"Confusion matrix of decision tree with entropy criterion:\")\n",
    "print(confusion_matrix(y_test, y_pred_entropy))\n",
    "\n"
   ]
  },
  {
   "cell_type": "code",
   "execution_count": null,
   "id": "962039c0",
   "metadata": {},
   "outputs": [],
   "source": []
  }
 ],
 "metadata": {
  "kernelspec": {
   "display_name": "Python 3 (ipykernel)",
   "language": "python",
   "name": "python3"
  },
  "language_info": {
   "codemirror_mode": {
    "name": "ipython",
    "version": 3
   },
   "file_extension": ".py",
   "mimetype": "text/x-python",
   "name": "python",
   "nbconvert_exporter": "python",
   "pygments_lexer": "ipython3",
   "version": "3.9.13"
  }
 },
 "nbformat": 4,
 "nbformat_minor": 5
}
